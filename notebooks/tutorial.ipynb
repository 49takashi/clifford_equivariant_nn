{
 "cells": [
  {
   "attachments": {},
   "cell_type": "markdown",
   "id": "c15329b5",
   "metadata": {},
   "source": [
    "# Clifford Group Equivariant Neural Networks"
   ]
  },
  {
   "attachments": {},
   "cell_type": "markdown",
   "id": "da16decf",
   "metadata": {},
   "source": [
    "This is a quick introduction to Clifford group equivariant layers can be used. First, let's do some imports."
   ]
  },
  {
   "cell_type": "code",
   "execution_count": 54,
   "id": "bf5e78aa",
   "metadata": {},
   "outputs": [
    {
     "name": "stdout",
     "output_type": "stream",
     "text": [
      "/home/druhe/github\n"
     ]
    }
   ],
   "source": [
    "%cd .."
   ]
  },
  {
   "attachments": {},
   "cell_type": "markdown",
   "id": "9707616b",
   "metadata": {},
   "source": [
    "# Imports"
   ]
  },
  {
   "cell_type": "code",
   "execution_count": 55,
   "id": "8ebf1216",
   "metadata": {},
   "outputs": [],
   "source": [
    "import torch\n",
    "torch.set_default_dtype(torch.float64)\n",
    "\n",
    "import matplotlib.pyplot as plt\n",
    "\n",
    "from models.modules.fcgp import FullyConnectedSteerableGeometricProductLayer\n",
    "from models.modules.gp import SteerableGeometricProductLayer\n",
    "from models.modules.linear import MVLinear\n",
    "from models.modules.mvsilu import MVSiLU\n",
    "from models.modules.mvlayernorm import MVLayerNorm\n",
    "\n",
    "from algebra.cliffordalgebra import CliffordAlgebra"
   ]
  },
  {
   "attachments": {},
   "cell_type": "markdown",
   "id": "2bf22206",
   "metadata": {},
   "source": [
    "# Setup"
   ]
  },
  {
   "attachments": {},
   "cell_type": "markdown",
   "id": "00300854",
   "metadata": {},
   "source": [
    "Next, let's create some fake data. We assume we have 8 three-dimensional vectors and 8 scalar input data. We leave the batch dimension to 1."
   ]
  },
  {
   "cell_type": "code",
   "execution_count": 56,
   "id": "169f2910",
   "metadata": {},
   "outputs": [],
   "source": [
    "h = torch.randn(1, 8, 1)\n",
    "x = torch.randn(1, 8, 3)"
   ]
  },
  {
   "attachments": {},
   "cell_type": "markdown",
   "id": "4d16eace",
   "metadata": {},
   "source": [
    "Let's create the three-dimensional Clifford algebra."
   ]
  },
  {
   "cell_type": "code",
   "execution_count": 57,
   "id": "51928e60",
   "metadata": {},
   "outputs": [],
   "source": [
    "algebra = CliffordAlgebra((1., 1., 1.))"
   ]
  },
  {
   "attachments": {},
   "cell_type": "markdown",
   "id": "32b7c01b",
   "metadata": {},
   "source": [
    "We embed the data in the algebra. Scalars are of grade 0, and vectors of grade 1. We concatenate the input features."
   ]
  },
  {
   "cell_type": "code",
   "execution_count": 58,
   "id": "cad4c21e",
   "metadata": {},
   "outputs": [],
   "source": [
    "h_cl = algebra.embed_grade(h, 0)\n",
    "x_cl = algebra.embed_grade(x, 1)\n",
    "\n",
    "input = torch.cat([h_cl, x_cl], dim=1)"
   ]
  },
  {
   "attachments": {},
   "cell_type": "markdown",
   "id": "bdc82edc",
   "metadata": {},
   "source": [
    "# Create Orthogonal Transformations"
   ]
  },
  {
   "attachments": {},
   "cell_type": "markdown",
   "id": "bf4f39bd",
   "metadata": {},
   "source": [
    "Let's apply some orthogonal transformations. As shown in the paper, the Clifford group can do that for us."
   ]
  },
  {
   "cell_type": "code",
   "execution_count": 59,
   "id": "cc896cec",
   "metadata": {},
   "outputs": [],
   "source": [
    "# Reflector\n",
    "v = algebra.versor(1)\n",
    "\n",
    "# Rotor\n",
    "R = algebra.versor(2)"
   ]
  },
  {
   "attachments": {},
   "cell_type": "markdown",
   "id": "bb35d7e8",
   "metadata": {},
   "source": [
    "Create reflected and rotated versions of the data."
   ]
  },
  {
   "cell_type": "code",
   "execution_count": 60,
   "id": "3a0ce1e8",
   "metadata": {},
   "outputs": [],
   "source": [
    "input_v = algebra.rho(v, input.clone())\n",
    "\n",
    "input_R = algebra.rho(R, input.clone())"
   ]
  },
  {
   "attachments": {},
   "cell_type": "markdown",
   "id": "bb8127b0",
   "metadata": {},
   "source": [
    "Make sure that the transformations are orthogonal."
   ]
  },
  {
   "cell_type": "code",
   "execution_count": 61,
   "id": "3eed2668",
   "metadata": {},
   "outputs": [],
   "source": [
    "assert torch.allclose(algebra.norm(input_v), algebra.norm(input))\n",
    "assert torch.allclose(algebra.norm(input_R), algebra.norm(input))\n"
   ]
  },
  {
   "attachments": {},
   "cell_type": "markdown",
   "id": "378606dc",
   "metadata": {},
   "source": [
    "# Create Network Layers"
   ]
  },
  {
   "attachments": {},
   "cell_type": "markdown",
   "id": "af829c8a",
   "metadata": {},
   "source": [
    "Now, we create some layers."
   ]
  },
  {
   "cell_type": "code",
   "execution_count": 62,
   "id": "5c0fa47b",
   "metadata": {},
   "outputs": [],
   "source": [
    "fcgp = FullyConnectedSteerableGeometricProductLayer(algebra, 16, 1)\n",
    "gp = SteerableGeometricProductLayer(algebra, 16)\n",
    "linear = MVLinear(algebra, 16, 16)\n",
    "mvsilu = MVSiLU(algebra, 16)\n",
    "norm = MVLayerNorm(algebra, 16)"
   ]
  },
  {
   "attachments": {},
   "cell_type": "markdown",
   "id": "239fcbf0",
   "metadata": {},
   "source": [
    "# Equivariance Checks"
   ]
  },
  {
   "attachments": {},
   "cell_type": "markdown",
   "id": "f74f272d",
   "metadata": {},
   "source": [
    "Let's check the equivariance!"
   ]
  },
  {
   "cell_type": "code",
   "execution_count": 63,
   "id": "b0ecfebf",
   "metadata": {},
   "outputs": [],
   "source": [
    "output = fcgp(input)\n",
    "output_v = fcgp(input_v)\n",
    "output_R = fcgp(input_R)\n",
    "\n",
    "assert torch.allclose(algebra.rho(v, output), output_v)\n",
    "assert torch.allclose(algebra.rho(R, output), output_R)"
   ]
  },
  {
   "cell_type": "code",
   "execution_count": 76,
   "id": "97b67775",
   "metadata": {},
   "outputs": [
    {
     "ename": "ValueError",
     "evalue": "setting an array element with a sequence. The requested array has an inhomogeneous shape after 1 dimensions. The detected shape was (16,) + inhomogeneous part.",
     "output_type": "error",
     "traceback": [
      "\u001b[0;31m---------------------------------------------------------------------------\u001b[0m",
      "\u001b[0;31mValueError\u001b[0m                                Traceback (most recent call last)",
      "Cell \u001b[0;32mIn[76], line 18\u001b[0m\n\u001b[1;32m     15\u001b[0m axes[\u001b[39m0\u001b[39m, \u001b[39m1\u001b[39m]\u001b[39m.\u001b[39mset_title(\u001b[39mr\u001b[39m\u001b[39m\"\u001b[39m\u001b[39m$\u001b[39m\u001b[39m\\\u001b[39m\u001b[39mphi(x)$\u001b[39m\u001b[39m\"\u001b[39m)\n\u001b[1;32m     17\u001b[0m \u001b[39m# Third bar chart (bottom left)\u001b[39;00m\n\u001b[0;32m---> 18\u001b[0m axes[\u001b[39m1\u001b[39;49m, \u001b[39m0\u001b[39;49m]\u001b[39m.\u001b[39;49mbar(x, algebra\u001b[39m.\u001b[39;49mrho(R, output)\u001b[39m.\u001b[39;49mdetach()[\u001b[39m0\u001b[39;49m, :], color\u001b[39m=\u001b[39;49m[\u001b[39m'\u001b[39;49m\u001b[39mred\u001b[39;49m\u001b[39m'\u001b[39;49m, \u001b[39m'\u001b[39;49m\u001b[39mgreen\u001b[39;49m\u001b[39m'\u001b[39;49m, \u001b[39m'\u001b[39;49m\u001b[39mgreen\u001b[39;49m\u001b[39m'\u001b[39;49m, \u001b[39m'\u001b[39;49m\u001b[39mgreen\u001b[39;49m\u001b[39m'\u001b[39;49m, \u001b[39m'\u001b[39;49m\u001b[39mblue\u001b[39;49m\u001b[39m'\u001b[39;49m , \u001b[39m'\u001b[39;49m\u001b[39mblue\u001b[39;49m\u001b[39m'\u001b[39;49m, \u001b[39m'\u001b[39;49m\u001b[39mblue\u001b[39;49m\u001b[39m'\u001b[39;49m, \u001b[39m'\u001b[39;49m\u001b[39myellow\u001b[39;49m\u001b[39m'\u001b[39;49m])\n\u001b[1;32m     19\u001b[0m axes[\u001b[39m1\u001b[39m, \u001b[39m0\u001b[39m]\u001b[39m.\u001b[39mset_title(\u001b[39mr\u001b[39m\u001b[39m\"\u001b[39m\u001b[39m$\u001b[39m\u001b[39m\\\u001b[39m\u001b[39mphi\u001b[39m\u001b[39m\\\u001b[39m\u001b[39mrho(x)$\u001b[39m\u001b[39m\"\u001b[39m)\n\u001b[1;32m     21\u001b[0m \u001b[39m# Fourth bar chart (bottom right)\u001b[39;00m\n",
      "File \u001b[0;32m~/github/clifford-group-equivariant-networks/.venv/lib/python3.10/site-packages/matplotlib/__init__.py:1442\u001b[0m, in \u001b[0;36m_preprocess_data.<locals>.inner\u001b[0;34m(ax, data, *args, **kwargs)\u001b[0m\n\u001b[1;32m   1439\u001b[0m \u001b[39m@functools\u001b[39m\u001b[39m.\u001b[39mwraps(func)\n\u001b[1;32m   1440\u001b[0m \u001b[39mdef\u001b[39;00m \u001b[39minner\u001b[39m(ax, \u001b[39m*\u001b[39margs, data\u001b[39m=\u001b[39m\u001b[39mNone\u001b[39;00m, \u001b[39m*\u001b[39m\u001b[39m*\u001b[39mkwargs):\n\u001b[1;32m   1441\u001b[0m     \u001b[39mif\u001b[39;00m data \u001b[39mis\u001b[39;00m \u001b[39mNone\u001b[39;00m:\n\u001b[0;32m-> 1442\u001b[0m         \u001b[39mreturn\u001b[39;00m func(ax, \u001b[39m*\u001b[39;49m\u001b[39mmap\u001b[39;49m(sanitize_sequence, args), \u001b[39m*\u001b[39;49m\u001b[39m*\u001b[39;49mkwargs)\n\u001b[1;32m   1444\u001b[0m     bound \u001b[39m=\u001b[39m new_sig\u001b[39m.\u001b[39mbind(ax, \u001b[39m*\u001b[39margs, \u001b[39m*\u001b[39m\u001b[39m*\u001b[39mkwargs)\n\u001b[1;32m   1445\u001b[0m     auto_label \u001b[39m=\u001b[39m (bound\u001b[39m.\u001b[39marguments\u001b[39m.\u001b[39mget(label_namer)\n\u001b[1;32m   1446\u001b[0m                   \u001b[39mor\u001b[39;00m bound\u001b[39m.\u001b[39mkwargs\u001b[39m.\u001b[39mget(label_namer))\n",
      "File \u001b[0;32m~/github/clifford-group-equivariant-networks/.venv/lib/python3.10/site-packages/matplotlib/axes/_axes.py:2417\u001b[0m, in \u001b[0;36mAxes.bar\u001b[0;34m(self, x, height, width, bottom, align, **kwargs)\u001b[0m\n\u001b[1;32m   2414\u001b[0m     \u001b[39mif\u001b[39;00m yerr \u001b[39mis\u001b[39;00m \u001b[39mnot\u001b[39;00m \u001b[39mNone\u001b[39;00m:\n\u001b[1;32m   2415\u001b[0m         yerr \u001b[39m=\u001b[39m \u001b[39mself\u001b[39m\u001b[39m.\u001b[39m_convert_dx(yerr, y0, y, \u001b[39mself\u001b[39m\u001b[39m.\u001b[39mconvert_yunits)\n\u001b[0;32m-> 2417\u001b[0m x, height, width, y, linewidth, hatch \u001b[39m=\u001b[39m np\u001b[39m.\u001b[39;49mbroadcast_arrays(\n\u001b[1;32m   2418\u001b[0m     \u001b[39m# Make args iterable too.\u001b[39;49;00m\n\u001b[1;32m   2419\u001b[0m     np\u001b[39m.\u001b[39;49matleast_1d(x), height, width, y, linewidth, hatch)\n\u001b[1;32m   2421\u001b[0m \u001b[39m# Now that units have been converted, set the tick locations.\u001b[39;00m\n\u001b[1;32m   2422\u001b[0m \u001b[39mif\u001b[39;00m orientation \u001b[39m==\u001b[39m \u001b[39m'\u001b[39m\u001b[39mvertical\u001b[39m\u001b[39m'\u001b[39m:\n",
      "File \u001b[0;32m<__array_function__ internals>:200\u001b[0m, in \u001b[0;36mbroadcast_arrays\u001b[0;34m(*args, **kwargs)\u001b[0m\n",
      "File \u001b[0;32m~/github/clifford-group-equivariant-networks/.venv/lib/python3.10/site-packages/numpy/lib/stride_tricks.py:538\u001b[0m, in \u001b[0;36mbroadcast_arrays\u001b[0;34m(subok, *args)\u001b[0m\n\u001b[1;32m    482\u001b[0m \u001b[39m\u001b[39m\u001b[39m\"\"\"\u001b[39;00m\n\u001b[1;32m    483\u001b[0m \u001b[39mBroadcast any number of arrays against each other.\u001b[39;00m\n\u001b[1;32m    484\u001b[0m \n\u001b[0;32m   (...)\u001b[0m\n\u001b[1;32m    531\u001b[0m \n\u001b[1;32m    532\u001b[0m \u001b[39m\"\"\"\u001b[39;00m\n\u001b[1;32m    533\u001b[0m \u001b[39m# nditer is not used here to avoid the limit of 32 arrays.\u001b[39;00m\n\u001b[1;32m    534\u001b[0m \u001b[39m# Otherwise, something like the following one-liner would suffice:\u001b[39;00m\n\u001b[1;32m    535\u001b[0m \u001b[39m# return np.nditer(args, flags=['multi_index', 'zerosize_ok'],\u001b[39;00m\n\u001b[1;32m    536\u001b[0m \u001b[39m#                  order='C').itviews\u001b[39;00m\n\u001b[0;32m--> 538\u001b[0m args \u001b[39m=\u001b[39m [np\u001b[39m.\u001b[39marray(_m, copy\u001b[39m=\u001b[39m\u001b[39mFalse\u001b[39;00m, subok\u001b[39m=\u001b[39msubok) \u001b[39mfor\u001b[39;00m _m \u001b[39min\u001b[39;00m args]\n\u001b[1;32m    540\u001b[0m shape \u001b[39m=\u001b[39m _broadcast_shape(\u001b[39m*\u001b[39margs)\n\u001b[1;32m    542\u001b[0m \u001b[39mif\u001b[39;00m \u001b[39mall\u001b[39m(array\u001b[39m.\u001b[39mshape \u001b[39m==\u001b[39m shape \u001b[39mfor\u001b[39;00m array \u001b[39min\u001b[39;00m args):\n\u001b[1;32m    543\u001b[0m     \u001b[39m# Common case where nothing needs to be broadcasted.\u001b[39;00m\n",
      "File \u001b[0;32m~/github/clifford-group-equivariant-networks/.venv/lib/python3.10/site-packages/numpy/lib/stride_tricks.py:538\u001b[0m, in \u001b[0;36m<listcomp>\u001b[0;34m(.0)\u001b[0m\n\u001b[1;32m    482\u001b[0m \u001b[39m\u001b[39m\u001b[39m\"\"\"\u001b[39;00m\n\u001b[1;32m    483\u001b[0m \u001b[39mBroadcast any number of arrays against each other.\u001b[39;00m\n\u001b[1;32m    484\u001b[0m \n\u001b[0;32m   (...)\u001b[0m\n\u001b[1;32m    531\u001b[0m \n\u001b[1;32m    532\u001b[0m \u001b[39m\"\"\"\u001b[39;00m\n\u001b[1;32m    533\u001b[0m \u001b[39m# nditer is not used here to avoid the limit of 32 arrays.\u001b[39;00m\n\u001b[1;32m    534\u001b[0m \u001b[39m# Otherwise, something like the following one-liner would suffice:\u001b[39;00m\n\u001b[1;32m    535\u001b[0m \u001b[39m# return np.nditer(args, flags=['multi_index', 'zerosize_ok'],\u001b[39;00m\n\u001b[1;32m    536\u001b[0m \u001b[39m#                  order='C').itviews\u001b[39;00m\n\u001b[0;32m--> 538\u001b[0m args \u001b[39m=\u001b[39m [np\u001b[39m.\u001b[39;49marray(_m, copy\u001b[39m=\u001b[39;49m\u001b[39mFalse\u001b[39;49;00m, subok\u001b[39m=\u001b[39;49msubok) \u001b[39mfor\u001b[39;00m _m \u001b[39min\u001b[39;00m args]\n\u001b[1;32m    540\u001b[0m shape \u001b[39m=\u001b[39m _broadcast_shape(\u001b[39m*\u001b[39margs)\n\u001b[1;32m    542\u001b[0m \u001b[39mif\u001b[39;00m \u001b[39mall\u001b[39m(array\u001b[39m.\u001b[39mshape \u001b[39m==\u001b[39m shape \u001b[39mfor\u001b[39;00m array \u001b[39min\u001b[39;00m args):\n\u001b[1;32m    543\u001b[0m     \u001b[39m# Common case where nothing needs to be broadcasted.\u001b[39;00m\n",
      "\u001b[0;31mValueError\u001b[0m: setting an array element with a sequence. The requested array has an inhomogeneous shape after 1 dimensions. The detected shape was (16,) + inhomogeneous part."
     ]
    },
    {
     "data": {
      "image/png": "[encoded data removed]",
      "text/plain": [
       "<Figure size 640x480 with 4 Axes>"
      ]
     },
     "metadata": {},
     "output_type": "display_data"
    }
   ],
   "source": [
    "import matplotlib.pyplot as plt\n",
    "\n",
    "# Data for the bar charts\n",
    "x = ['$1$', '$e_1$', '$e_2$', '$e_3$', '$e_{12}$', '$e_{13}$', '$e_{23}$', '$e_{123}$']\n",
    "\n",
    "# Create subplots for the commutative diagram\n",
    "fig, axes = plt.subplots(nrows=2, ncols=2)\n",
    "\n",
    "# First bar chart (top left)\n",
    "axes[0, 0].bar(x, input_R[0, :].mean(0).detach(), color=['red', 'green', 'green', 'green', 'blue' , 'blue', 'blue', 'yellow'])\n",
    "axes[0, 0].set_title(r\"$\\rho(w)(x)$\")\n",
    "\n",
    "# Second bar chart (top right)\n",
    "axes[0, 1].bar(x, fcgp(input)[0, 0].detach(), color=['red', 'green', 'green', 'green', 'blue' , 'blue', 'blue', 'yellow'])\n",
    "axes[0, 1].set_title(r\"$\\phi(x)$\")\n",
    "\n",
    "# Third bar chart (bottom left)\n",
    "axes[1, 0].bar(x, algebra.rho(R, output).detach()[0, 0], color=['red', 'green', 'green', 'green', 'blue' , 'blue', 'blue', 'yellow'])\n",
    "axes[1, 0].set_title(r\"$\\phi\\rho(x)$\")\n",
    "\n",
    "# Fourth bar chart (bottom right)\n",
    "axes[1, 1].bar(x, fcgp(input_R)[0, 0].detach(), color=['red', 'green', 'green', 'green', 'blue' , 'blue', 'blue', 'yellow'])\n",
    "axes[1, 1].set_title(r\"$\\rho(w)(\\phi(x))$\")\n",
    "\n",
    "# Set the overall title for the commutative diagram\n",
    "fig.suptitle(\"Commutative Diagram\")\n",
    "\n",
    "# # Adjust spacing between subplots\n",
    "plt.tight_layout()\n",
    "\n",
    "# # Display the commutative diagram\n",
    "# plt.show()\n"
   ]
  },
  {
   "cell_type": "code",
   "execution_count": 66,
   "id": "238660cb",
   "metadata": {},
   "outputs": [],
   "source": [
    "output = gp(input)\n",
    "output_v = gp(input_v)\n",
    "output_R = gp(input_R)\n",
    "\n",
    "assert torch.allclose(algebra.rho(v, output), output_v)\n",
    "assert torch.allclose(algebra.rho(R, output), output_R)"
   ]
  },
  {
   "cell_type": "code",
   "execution_count": 12,
   "id": "514e55f6",
   "metadata": {},
   "outputs": [],
   "source": [
    "output = linear(input)\n",
    "output_v = linear(input_v)\n",
    "output_R = linear(input_R)\n",
    "\n",
    "assert torch.allclose(algebra.rho(v, output), output_v)\n",
    "assert torch.allclose(algebra.rho(R, output), output_R)"
   ]
  },
  {
   "cell_type": "code",
   "execution_count": 13,
   "id": "bed0bf9f",
   "metadata": {},
   "outputs": [],
   "source": [
    "output = mvsilu(input)\n",
    "output_v = mvsilu(input_v)\n",
    "output_R = mvsilu(input_R)\n",
    "\n",
    "assert torch.allclose(algebra.rho(v, output), output_v)\n",
    "assert torch.allclose(algebra.rho(R, output), output_R)"
   ]
  },
  {
   "cell_type": "code",
   "execution_count": 14,
   "id": "af76f2e5",
   "metadata": {},
   "outputs": [],
   "source": [
    "output = norm(input)\n",
    "output_v = norm(input_v)\n",
    "output_R = norm(input_R)\n",
    "\n",
    "assert torch.allclose(algebra.rho(v, output), output_v)\n",
    "assert torch.allclose(algebra.rho(R, output), output_R)"
   ]
  },
  {
   "attachments": {},
   "cell_type": "markdown",
   "id": "15c5582c",
   "metadata": {},
   "source": [
    "# Mix and Match!"
   ]
  },
  {
   "attachments": {},
   "cell_type": "markdown",
   "id": "361181b7",
   "metadata": {},
   "source": [
    "And we're done! One can now use these layers to compose equivariant deep neural networks. Need some inspiration? Check the `models` directory!"
   ]
  }
 ],
 "metadata": {
  "kernelspec": {
   "display_name": "Python 3 (ipykernel)",
   "language": "python",
   "name": "python3"
  },
  "language_info": {
   "codemirror_mode": {
    "name": "ipython",
    "version": 3
   },
   "file_extension": ".py",
   "mimetype": "text/x-python",
   "name": "python",
   "nbconvert_exporter": "python",
   "pygments_lexer": "ipython3",
   "version": "3.10.8"
  }
 },
 "nbformat": 4,
 "nbformat_minor": 5
}
